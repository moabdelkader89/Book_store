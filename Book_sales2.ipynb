{
 "cells": [
  {
   "cell_type": "code",
   "execution_count": 152,
   "metadata": {},
   "outputs": [],
   "source": [
    "import pandas as pd \n",
    "import numpy as np \n",
    "import matplotlib.pyplot as plt \n",
    "import seaborn as sns \n",
    "import plotly.express as px\n",
    "import warnings \n",
    "warnings.filterwarnings('ignore')"
   ]
  },
  {
   "cell_type": "markdown",
   "metadata": {},
   "source": [
    "Read the data file "
   ]
  },
  {
   "cell_type": "code",
   "execution_count": 153,
   "metadata": {},
   "outputs": [
    {
     "data": {
      "text/html": [
       "<div>\n",
       "<style scoped>\n",
       "    .dataframe tbody tr th:only-of-type {\n",
       "        vertical-align: middle;\n",
       "    }\n",
       "\n",
       "    .dataframe tbody tr th {\n",
       "        vertical-align: top;\n",
       "    }\n",
       "\n",
       "    .dataframe thead th {\n",
       "        text-align: right;\n",
       "    }\n",
       "</style>\n",
       "<table border=\"1\" class=\"dataframe\">\n",
       "  <thead>\n",
       "    <tr style=\"text-align: right;\">\n",
       "      <th></th>\n",
       "      <th>index</th>\n",
       "      <th>Publishing Year</th>\n",
       "      <th>Book Name</th>\n",
       "      <th>Author</th>\n",
       "      <th>language_code</th>\n",
       "      <th>Author_Rating</th>\n",
       "      <th>Book_average_rating</th>\n",
       "      <th>Book_ratings_count</th>\n",
       "      <th>genre</th>\n",
       "      <th>gross sales</th>\n",
       "      <th>publisher revenue</th>\n",
       "      <th>sale price</th>\n",
       "      <th>sales rank</th>\n",
       "      <th>Publisher</th>\n",
       "      <th>units sold</th>\n",
       "    </tr>\n",
       "  </thead>\n",
       "  <tbody>\n",
       "    <tr>\n",
       "      <th>0</th>\n",
       "      <td>0</td>\n",
       "      <td>1975.0</td>\n",
       "      <td>Beowulf</td>\n",
       "      <td>Unknown, Seamus Heaney</td>\n",
       "      <td>en-US</td>\n",
       "      <td>Novice</td>\n",
       "      <td>3.42</td>\n",
       "      <td>155903</td>\n",
       "      <td>genre fiction</td>\n",
       "      <td>34160.00</td>\n",
       "      <td>20496.000</td>\n",
       "      <td>4.88</td>\n",
       "      <td>1</td>\n",
       "      <td>HarperCollins Publishers</td>\n",
       "      <td>7000</td>\n",
       "    </tr>\n",
       "    <tr>\n",
       "      <th>1</th>\n",
       "      <td>1</td>\n",
       "      <td>1987.0</td>\n",
       "      <td>Batman: Year One</td>\n",
       "      <td>Frank Miller, David Mazzucchelli, Richmond Lew...</td>\n",
       "      <td>eng</td>\n",
       "      <td>Intermediate</td>\n",
       "      <td>4.23</td>\n",
       "      <td>145267</td>\n",
       "      <td>genre fiction</td>\n",
       "      <td>12437.50</td>\n",
       "      <td>7462.500</td>\n",
       "      <td>1.99</td>\n",
       "      <td>2</td>\n",
       "      <td>HarperCollins Publishers</td>\n",
       "      <td>6250</td>\n",
       "    </tr>\n",
       "    <tr>\n",
       "      <th>2</th>\n",
       "      <td>2</td>\n",
       "      <td>2015.0</td>\n",
       "      <td>Go Set a Watchman</td>\n",
       "      <td>Harper Lee</td>\n",
       "      <td>eng</td>\n",
       "      <td>Novice</td>\n",
       "      <td>3.31</td>\n",
       "      <td>138669</td>\n",
       "      <td>genre fiction</td>\n",
       "      <td>47795.00</td>\n",
       "      <td>28677.000</td>\n",
       "      <td>8.69</td>\n",
       "      <td>3</td>\n",
       "      <td>Amazon Digital Services,  Inc.</td>\n",
       "      <td>5500</td>\n",
       "    </tr>\n",
       "    <tr>\n",
       "      <th>3</th>\n",
       "      <td>3</td>\n",
       "      <td>2008.0</td>\n",
       "      <td>When You Are Engulfed in Flames</td>\n",
       "      <td>David Sedaris</td>\n",
       "      <td>en-US</td>\n",
       "      <td>Intermediate</td>\n",
       "      <td>4.04</td>\n",
       "      <td>150898</td>\n",
       "      <td>fiction</td>\n",
       "      <td>41250.00</td>\n",
       "      <td>24750.000</td>\n",
       "      <td>7.50</td>\n",
       "      <td>3</td>\n",
       "      <td>Hachette Book Group</td>\n",
       "      <td>5500</td>\n",
       "    </tr>\n",
       "    <tr>\n",
       "      <th>4</th>\n",
       "      <td>4</td>\n",
       "      <td>2011.0</td>\n",
       "      <td>Daughter of Smoke &amp; Bone</td>\n",
       "      <td>Laini Taylor</td>\n",
       "      <td>eng</td>\n",
       "      <td>Intermediate</td>\n",
       "      <td>4.04</td>\n",
       "      <td>198283</td>\n",
       "      <td>genre fiction</td>\n",
       "      <td>37952.50</td>\n",
       "      <td>22771.500</td>\n",
       "      <td>7.99</td>\n",
       "      <td>4</td>\n",
       "      <td>Penguin Group (USA) LLC</td>\n",
       "      <td>4750</td>\n",
       "    </tr>\n",
       "    <tr>\n",
       "      <th>...</th>\n",
       "      <td>...</td>\n",
       "      <td>...</td>\n",
       "      <td>...</td>\n",
       "      <td>...</td>\n",
       "      <td>...</td>\n",
       "      <td>...</td>\n",
       "      <td>...</td>\n",
       "      <td>...</td>\n",
       "      <td>...</td>\n",
       "      <td>...</td>\n",
       "      <td>...</td>\n",
       "      <td>...</td>\n",
       "      <td>...</td>\n",
       "      <td>...</td>\n",
       "      <td>...</td>\n",
       "    </tr>\n",
       "    <tr>\n",
       "      <th>1065</th>\n",
       "      <td>1065</td>\n",
       "      <td>2014.0</td>\n",
       "      <td>Gray Mountain</td>\n",
       "      <td>John Grisham</td>\n",
       "      <td>eng</td>\n",
       "      <td>Intermediate</td>\n",
       "      <td>3.52</td>\n",
       "      <td>37379</td>\n",
       "      <td>nonfiction</td>\n",
       "      <td>104.94</td>\n",
       "      <td>62.964</td>\n",
       "      <td>0.99</td>\n",
       "      <td>1268</td>\n",
       "      <td>Amazon Digital Services,  Inc.</td>\n",
       "      <td>106</td>\n",
       "    </tr>\n",
       "    <tr>\n",
       "      <th>1066</th>\n",
       "      <td>1066</td>\n",
       "      <td>1989.0</td>\n",
       "      <td>The Power of One</td>\n",
       "      <td>Bryce Courtenay</td>\n",
       "      <td>eng</td>\n",
       "      <td>Excellent</td>\n",
       "      <td>4.34</td>\n",
       "      <td>57312</td>\n",
       "      <td>genre fiction</td>\n",
       "      <td>846.94</td>\n",
       "      <td>508.164</td>\n",
       "      <td>7.99</td>\n",
       "      <td>1270</td>\n",
       "      <td>Random House LLC</td>\n",
       "      <td>106</td>\n",
       "    </tr>\n",
       "    <tr>\n",
       "      <th>1067</th>\n",
       "      <td>1067</td>\n",
       "      <td>1930.0</td>\n",
       "      <td>The Maltese Falcon</td>\n",
       "      <td>Dashiell Hammett</td>\n",
       "      <td>eng</td>\n",
       "      <td>Intermediate</td>\n",
       "      <td>3.92</td>\n",
       "      <td>58742</td>\n",
       "      <td>genre fiction</td>\n",
       "      <td>846.94</td>\n",
       "      <td>508.164</td>\n",
       "      <td>7.99</td>\n",
       "      <td>1271</td>\n",
       "      <td>Hachette Book Group</td>\n",
       "      <td>106</td>\n",
       "    </tr>\n",
       "    <tr>\n",
       "      <th>1068</th>\n",
       "      <td>1068</td>\n",
       "      <td>2011.0</td>\n",
       "      <td>Night Road</td>\n",
       "      <td>Kristin Hannah</td>\n",
       "      <td>en-US</td>\n",
       "      <td>Excellent</td>\n",
       "      <td>4.17</td>\n",
       "      <td>58028</td>\n",
       "      <td>genre fiction</td>\n",
       "      <td>104.94</td>\n",
       "      <td>62.964</td>\n",
       "      <td>0.99</td>\n",
       "      <td>1272</td>\n",
       "      <td>Amazon Digital Services,  Inc.</td>\n",
       "      <td>106</td>\n",
       "    </tr>\n",
       "    <tr>\n",
       "      <th>1069</th>\n",
       "      <td>1069</td>\n",
       "      <td>1999.0</td>\n",
       "      <td>Tripwire</td>\n",
       "      <td>Lee Child</td>\n",
       "      <td>eng</td>\n",
       "      <td>Excellent</td>\n",
       "      <td>4.07</td>\n",
       "      <td>55251</td>\n",
       "      <td>genre fiction</td>\n",
       "      <td>316.94</td>\n",
       "      <td>0.000</td>\n",
       "      <td>2.99</td>\n",
       "      <td>1273</td>\n",
       "      <td>Amazon Digital Services,  Inc.</td>\n",
       "      <td>106</td>\n",
       "    </tr>\n",
       "  </tbody>\n",
       "</table>\n",
       "<p>1070 rows × 15 columns</p>\n",
       "</div>"
      ],
      "text/plain": [
       "      index  Publishing Year                        Book Name  \\\n",
       "0         0           1975.0                          Beowulf   \n",
       "1         1           1987.0                 Batman: Year One   \n",
       "2         2           2015.0                Go Set a Watchman   \n",
       "3         3           2008.0  When You Are Engulfed in Flames   \n",
       "4         4           2011.0         Daughter of Smoke & Bone   \n",
       "...     ...              ...                              ...   \n",
       "1065   1065           2014.0                    Gray Mountain   \n",
       "1066   1066           1989.0                 The Power of One   \n",
       "1067   1067           1930.0               The Maltese Falcon   \n",
       "1068   1068           2011.0                       Night Road   \n",
       "1069   1069           1999.0                         Tripwire   \n",
       "\n",
       "                                                 Author language_code  \\\n",
       "0                                Unknown, Seamus Heaney         en-US   \n",
       "1     Frank Miller, David Mazzucchelli, Richmond Lew...           eng   \n",
       "2                                            Harper Lee           eng   \n",
       "3                                         David Sedaris         en-US   \n",
       "4                                          Laini Taylor           eng   \n",
       "...                                                 ...           ...   \n",
       "1065                                       John Grisham           eng   \n",
       "1066                                    Bryce Courtenay           eng   \n",
       "1067                                   Dashiell Hammett           eng   \n",
       "1068                                     Kristin Hannah         en-US   \n",
       "1069                                          Lee Child           eng   \n",
       "\n",
       "     Author_Rating  Book_average_rating  Book_ratings_count          genre  \\\n",
       "0           Novice                 3.42              155903  genre fiction   \n",
       "1     Intermediate                 4.23              145267  genre fiction   \n",
       "2           Novice                 3.31              138669  genre fiction   \n",
       "3     Intermediate                 4.04              150898        fiction   \n",
       "4     Intermediate                 4.04              198283  genre fiction   \n",
       "...            ...                  ...                 ...            ...   \n",
       "1065  Intermediate                 3.52               37379     nonfiction   \n",
       "1066     Excellent                 4.34               57312  genre fiction   \n",
       "1067  Intermediate                 3.92               58742  genre fiction   \n",
       "1068     Excellent                 4.17               58028  genre fiction   \n",
       "1069     Excellent                 4.07               55251  genre fiction   \n",
       "\n",
       "      gross sales  publisher revenue  sale price  sales rank  \\\n",
       "0        34160.00          20496.000        4.88           1   \n",
       "1        12437.50           7462.500        1.99           2   \n",
       "2        47795.00          28677.000        8.69           3   \n",
       "3        41250.00          24750.000        7.50           3   \n",
       "4        37952.50          22771.500        7.99           4   \n",
       "...           ...                ...         ...         ...   \n",
       "1065       104.94             62.964        0.99        1268   \n",
       "1066       846.94            508.164        7.99        1270   \n",
       "1067       846.94            508.164        7.99        1271   \n",
       "1068       104.94             62.964        0.99        1272   \n",
       "1069       316.94              0.000        2.99        1273   \n",
       "\n",
       "                          Publisher   units sold  \n",
       "0           HarperCollins Publishers        7000  \n",
       "1           HarperCollins Publishers        6250  \n",
       "2     Amazon Digital Services,  Inc.        5500  \n",
       "3                Hachette Book Group        5500  \n",
       "4            Penguin Group (USA) LLC        4750  \n",
       "...                              ...         ...  \n",
       "1065  Amazon Digital Services,  Inc.         106  \n",
       "1066                Random House LLC         106  \n",
       "1067             Hachette Book Group         106  \n",
       "1068  Amazon Digital Services,  Inc.         106  \n",
       "1069  Amazon Digital Services,  Inc.         106  \n",
       "\n",
       "[1070 rows x 15 columns]"
      ]
     },
     "execution_count": 153,
     "metadata": {},
     "output_type": "execute_result"
    }
   ],
   "source": [
    "df=pd.read_csv(r\"D:\\resume_project\\python -project\\Book-sales-project\\Books_Data.csv\")\n",
    "df"
   ]
  },
  {
   "cell_type": "markdown",
   "metadata": {},
   "source": [
    "EDA"
   ]
  },
  {
   "cell_type": "code",
   "execution_count": 154,
   "metadata": {},
   "outputs": [
    {
     "name": "stdout",
     "output_type": "stream",
     "text": [
      "<class 'pandas.core.frame.DataFrame'>\n",
      "RangeIndex: 1070 entries, 0 to 1069\n",
      "Data columns (total 15 columns):\n",
      " #   Column               Non-Null Count  Dtype  \n",
      "---  ------               --------------  -----  \n",
      " 0   index                1070 non-null   int64  \n",
      " 1   Publishing Year      1069 non-null   float64\n",
      " 2   Book Name            1047 non-null   object \n",
      " 3   Author               1070 non-null   object \n",
      " 4   language_code        1017 non-null   object \n",
      " 5   Author_Rating        1070 non-null   object \n",
      " 6   Book_average_rating  1070 non-null   float64\n",
      " 7   Book_ratings_count   1070 non-null   int64  \n",
      " 8   genre                1070 non-null   object \n",
      " 9   gross sales          1070 non-null   float64\n",
      " 10  publisher revenue    1070 non-null   float64\n",
      " 11  sale price           1070 non-null   float64\n",
      " 12  sales rank           1070 non-null   int64  \n",
      " 13  Publisher            1070 non-null   object \n",
      " 14  units sold           1070 non-null   int64  \n",
      "dtypes: float64(5), int64(4), object(6)\n",
      "memory usage: 125.5+ KB\n"
     ]
    }
   ],
   "source": [
    "df.info()"
   ]
  },
  {
   "cell_type": "code",
   "execution_count": 155,
   "metadata": {},
   "outputs": [
    {
     "data": {
      "text/html": [
       "<div>\n",
       "<style scoped>\n",
       "    .dataframe tbody tr th:only-of-type {\n",
       "        vertical-align: middle;\n",
       "    }\n",
       "\n",
       "    .dataframe tbody tr th {\n",
       "        vertical-align: top;\n",
       "    }\n",
       "\n",
       "    .dataframe thead th {\n",
       "        text-align: right;\n",
       "    }\n",
       "</style>\n",
       "<table border=\"1\" class=\"dataframe\">\n",
       "  <thead>\n",
       "    <tr style=\"text-align: right;\">\n",
       "      <th></th>\n",
       "      <th>index</th>\n",
       "      <th>Publishing Year</th>\n",
       "      <th>Book_average_rating</th>\n",
       "      <th>Book_ratings_count</th>\n",
       "      <th>gross sales</th>\n",
       "      <th>publisher revenue</th>\n",
       "      <th>sale price</th>\n",
       "      <th>sales rank</th>\n",
       "      <th>units sold</th>\n",
       "    </tr>\n",
       "  </thead>\n",
       "  <tbody>\n",
       "    <tr>\n",
       "      <th>count</th>\n",
       "      <td>1070.000000</td>\n",
       "      <td>1069.000000</td>\n",
       "      <td>1070.000000</td>\n",
       "      <td>1070.000000</td>\n",
       "      <td>1070.000000</td>\n",
       "      <td>1070.000000</td>\n",
       "      <td>1070.000000</td>\n",
       "      <td>1070.000000</td>\n",
       "      <td>1070.000000</td>\n",
       "    </tr>\n",
       "    <tr>\n",
       "      <th>mean</th>\n",
       "      <td>534.500000</td>\n",
       "      <td>1971.377923</td>\n",
       "      <td>4.007000</td>\n",
       "      <td>94909.913084</td>\n",
       "      <td>1856.622944</td>\n",
       "      <td>843.281030</td>\n",
       "      <td>4.869561</td>\n",
       "      <td>611.652336</td>\n",
       "      <td>9676.980374</td>\n",
       "    </tr>\n",
       "    <tr>\n",
       "      <th>std</th>\n",
       "      <td>309.026698</td>\n",
       "      <td>185.080257</td>\n",
       "      <td>0.247244</td>\n",
       "      <td>31513.242518</td>\n",
       "      <td>3936.924240</td>\n",
       "      <td>2257.596743</td>\n",
       "      <td>3.559919</td>\n",
       "      <td>369.849830</td>\n",
       "      <td>15370.571306</td>\n",
       "    </tr>\n",
       "    <tr>\n",
       "      <th>min</th>\n",
       "      <td>0.000000</td>\n",
       "      <td>-560.000000</td>\n",
       "      <td>2.970000</td>\n",
       "      <td>27308.000000</td>\n",
       "      <td>104.940000</td>\n",
       "      <td>0.000000</td>\n",
       "      <td>0.990000</td>\n",
       "      <td>1.000000</td>\n",
       "      <td>106.000000</td>\n",
       "    </tr>\n",
       "    <tr>\n",
       "      <th>25%</th>\n",
       "      <td>267.250000</td>\n",
       "      <td>1985.000000</td>\n",
       "      <td>3.850000</td>\n",
       "      <td>70398.000000</td>\n",
       "      <td>372.465000</td>\n",
       "      <td>0.000000</td>\n",
       "      <td>1.990000</td>\n",
       "      <td>287.500000</td>\n",
       "      <td>551.250000</td>\n",
       "    </tr>\n",
       "    <tr>\n",
       "      <th>50%</th>\n",
       "      <td>534.500000</td>\n",
       "      <td>2003.000000</td>\n",
       "      <td>4.015000</td>\n",
       "      <td>89309.000000</td>\n",
       "      <td>809.745000</td>\n",
       "      <td>273.078000</td>\n",
       "      <td>3.990000</td>\n",
       "      <td>595.500000</td>\n",
       "      <td>3924.000000</td>\n",
       "    </tr>\n",
       "    <tr>\n",
       "      <th>75%</th>\n",
       "      <td>801.750000</td>\n",
       "      <td>2010.000000</td>\n",
       "      <td>4.170000</td>\n",
       "      <td>113906.500000</td>\n",
       "      <td>1487.957500</td>\n",
       "      <td>721.180500</td>\n",
       "      <td>6.990000</td>\n",
       "      <td>932.500000</td>\n",
       "      <td>5312.250000</td>\n",
       "    </tr>\n",
       "    <tr>\n",
       "      <th>max</th>\n",
       "      <td>1069.000000</td>\n",
       "      <td>2016.000000</td>\n",
       "      <td>4.770000</td>\n",
       "      <td>206792.000000</td>\n",
       "      <td>47795.000000</td>\n",
       "      <td>28677.000000</td>\n",
       "      <td>33.860000</td>\n",
       "      <td>1273.000000</td>\n",
       "      <td>61560.000000</td>\n",
       "    </tr>\n",
       "  </tbody>\n",
       "</table>\n",
       "</div>"
      ],
      "text/plain": [
       "             index  Publishing Year  Book_average_rating  Book_ratings_count  \\\n",
       "count  1070.000000      1069.000000          1070.000000         1070.000000   \n",
       "mean    534.500000      1971.377923             4.007000        94909.913084   \n",
       "std     309.026698       185.080257             0.247244        31513.242518   \n",
       "min       0.000000      -560.000000             2.970000        27308.000000   \n",
       "25%     267.250000      1985.000000             3.850000        70398.000000   \n",
       "50%     534.500000      2003.000000             4.015000        89309.000000   \n",
       "75%     801.750000      2010.000000             4.170000       113906.500000   \n",
       "max    1069.000000      2016.000000             4.770000       206792.000000   \n",
       "\n",
       "        gross sales  publisher revenue   sale price   sales rank    units sold  \n",
       "count   1070.000000        1070.000000  1070.000000  1070.000000   1070.000000  \n",
       "mean    1856.622944         843.281030     4.869561   611.652336   9676.980374  \n",
       "std     3936.924240        2257.596743     3.559919   369.849830  15370.571306  \n",
       "min      104.940000           0.000000     0.990000     1.000000    106.000000  \n",
       "25%      372.465000           0.000000     1.990000   287.500000    551.250000  \n",
       "50%      809.745000         273.078000     3.990000   595.500000   3924.000000  \n",
       "75%     1487.957500         721.180500     6.990000   932.500000   5312.250000  \n",
       "max    47795.000000       28677.000000    33.860000  1273.000000  61560.000000  "
      ]
     },
     "execution_count": 155,
     "metadata": {},
     "output_type": "execute_result"
    }
   ],
   "source": [
    "df.describe()"
   ]
  },
  {
   "cell_type": "code",
   "execution_count": 156,
   "metadata": {},
   "outputs": [
    {
     "data": {
      "text/plain": [
       "index                   0\n",
       "Publishing Year         1\n",
       "Book Name              23\n",
       "Author                  0\n",
       "language_code          53\n",
       "Author_Rating           0\n",
       "Book_average_rating     0\n",
       "Book_ratings_count      0\n",
       "genre                   0\n",
       "gross sales             0\n",
       "publisher revenue       0\n",
       "sale price              0\n",
       "sales rank              0\n",
       "Publisher               0\n",
       "units sold              0\n",
       "dtype: int64"
      ]
     },
     "execution_count": 156,
     "metadata": {},
     "output_type": "execute_result"
    }
   ],
   "source": [
    "df.isna().sum()"
   ]
  },
  {
   "cell_type": "code",
   "execution_count": 157,
   "metadata": {},
   "outputs": [
    {
     "data": {
      "text/plain": [
       "array(['en-US', 'eng', nan, 'spa', 'en-GB', 'fre', 'en-CA', 'nl', 'ara'],\n",
       "      dtype=object)"
      ]
     },
     "execution_count": 157,
     "metadata": {},
     "output_type": "execute_result"
    }
   ],
   "source": [
    "df['language_code'].unique()"
   ]
  },
  {
   "cell_type": "code",
   "execution_count": 158,
   "metadata": {},
   "outputs": [
    {
     "data": {
      "text/plain": [
       "0       1975\n",
       "1       1987\n",
       "2       2015\n",
       "3       2008\n",
       "4       2011\n",
       "        ... \n",
       "1065    2014\n",
       "1066    1989\n",
       "1067    1930\n",
       "1068    2011\n",
       "1069    1999\n",
       "Name: year, Length: 1070, dtype: int32"
      ]
     },
     "execution_count": 158,
     "metadata": {},
     "output_type": "execute_result"
    }
   ],
   "source": [
    "#to remove all the space in this col name \n",
    "df['Publisher '] = df['Publisher '].str.strip()\n",
    "\n",
    "df['Publishing Year'] = pd.to_datetime(df['Publishing Year'], format='%Y',errors='coerce')\n",
    "df['year']=df['Publishing Year'].dt.year\n",
    "df['year'] = df['year'].fillna(1987).astype(int)\n",
    "df['year']\n",
    "\n"
   ]
  },
  {
   "cell_type": "code",
   "execution_count": 159,
   "metadata": {},
   "outputs": [],
   "source": [
    "df['language_code'].fillna(\"eng\",inplace=True)"
   ]
  },
  {
   "cell_type": "code",
   "execution_count": 160,
   "metadata": {},
   "outputs": [
    {
     "data": {
      "text/plain": [
       "index                   0\n",
       "Publishing Year        18\n",
       "Book Name              23\n",
       "Author                  0\n",
       "language_code           0\n",
       "Author_Rating           0\n",
       "Book_average_rating     0\n",
       "Book_ratings_count      0\n",
       "genre                   0\n",
       "gross sales             0\n",
       "publisher revenue       0\n",
       "sale price              0\n",
       "sales rank              0\n",
       "Publisher               0\n",
       "units sold              0\n",
       "year                    0\n",
       "dtype: int64"
      ]
     },
     "execution_count": 160,
     "metadata": {},
     "output_type": "execute_result"
    }
   ],
   "source": [
    "df.isna().sum()"
   ]
  },
  {
   "cell_type": "code",
   "execution_count": 161,
   "metadata": {},
   "outputs": [],
   "source": [
    "#deal with the null values in Book name col\n",
    "#we use subset to deal with only this col\n",
    "df.dropna(subset='Book Name',inplace=True)"
   ]
  },
  {
   "cell_type": "code",
   "execution_count": 162,
   "metadata": {},
   "outputs": [
    {
     "data": {
      "text/plain": [
       "index                   0\n",
       "Publishing Year        17\n",
       "Book Name               0\n",
       "Author                  0\n",
       "language_code           0\n",
       "Author_Rating           0\n",
       "Book_average_rating     0\n",
       "Book_ratings_count      0\n",
       "genre                   0\n",
       "gross sales             0\n",
       "publisher revenue       0\n",
       "sale price              0\n",
       "sales rank              0\n",
       "Publisher               0\n",
       "units sold              0\n",
       "year                    0\n",
       "dtype: int64"
      ]
     },
     "execution_count": 162,
     "metadata": {},
     "output_type": "execute_result"
    }
   ],
   "source": [
    "df.isna().sum()"
   ]
  },
  {
   "cell_type": "markdown",
   "metadata": {},
   "source": [
    "Analysis the data\n"
   ]
  },
  {
   "cell_type": "markdown",
   "metadata": {},
   "source": [
    "Most sale Out Books"
   ]
  },
  {
   "cell_type": "code",
   "execution_count": 163,
   "metadata": {},
   "outputs": [
    {
     "name": "stdout",
     "output_type": "stream",
     "text": [
      "Book Name\n",
      "New Moon: The Complete Illustrated Movie Companion    61560\n",
      "Maybe Someday                                         61128\n",
      "Mr Maybe                                              61128\n",
      "Anne of the Island                                    60696\n",
      "Also sprach Zarathustra                               59400\n",
      "Name: units sold, dtype: int64\n"
     ]
    }
   ],
   "source": [
    "max_sale_out = df.groupby('Book Name')['units sold'].sum()\n",
    "max_sale_out = max_sale_out.sort_values(ascending=False) \n",
    "print(max_sale_out.head(5))   \n"
   ]
  },
  {
   "cell_type": "code",
   "execution_count": 164,
   "metadata": {},
   "outputs": [
    {
     "data": {
      "image/png": "[encoded data removed]",
      "text/plain": [
       "<Figure size 640x480 with 1 Axes>"
      ]
     },
     "metadata": {},
     "output_type": "display_data"
    }
   ],
   "source": [
    "max_sale_out = df.groupby('Book Name')['units sold'].sum()\n",
    "max_sale_out = max_sale_out.sort_values(ascending=False) \n",
    "max_sale_out= max_sale_out.head(5)  \n",
    "max_sale_out.plot(kind='bar')\n",
    "plt.show()"
   ]
  },
  {
   "cell_type": "markdown",
   "metadata": {},
   "source": [
    "Total Rate By books"
   ]
  },
  {
   "cell_type": "code",
   "execution_count": 165,
   "metadata": {},
   "outputs": [
    {
     "name": "stdout",
     "output_type": "stream",
     "text": [
      "Book Name\n",
      "The Rosie Effect                                                                                27308\n",
      "The Elegant Universe: Superstrings, Hidden Dimensions, and the Quest for the Ultimate Theory    32626\n",
      "Pines                                                                                           34789\n",
      "The Forty Rules of Love                                                                         35283\n",
      "Finders Keepers                                                                                 36541\n",
      "Name: Book_ratings_count, dtype: int64\n"
     ]
    }
   ],
   "source": [
    "total_rate=df.groupby('Book Name')['Book_ratings_count'].sum()\n",
    "total_rate=total_rate.sort_values(ascending=True)\n",
    "print(total_rate.head(5))"
   ]
  },
  {
   "cell_type": "code",
   "execution_count": 166,
   "metadata": {},
   "outputs": [
    {
     "data": {
      "image/png": "[encoded data removed]",
      "text/plain": [
       "<Figure size 700x700 with 1 Axes>"
      ]
     },
     "metadata": {},
     "output_type": "display_data"
    }
   ],
   "source": [
    "total_rate=df.groupby('Book Name')['Book_ratings_count'].sum()\n",
    "total_rate=total_rate.sort_values(ascending=True)\n",
    "total_rate=total_rate.head(5)\n",
    "plt.figure(figsize=(7,7))\n",
    "plt.xticks(rotation=45)\n",
    "total_rate.plot(kind='bar')\n",
    "plt.show()"
   ]
  },
  {
   "cell_type": "markdown",
   "metadata": {},
   "source": [
    "total revenue by publisher"
   ]
  },
  {
   "cell_type": "code",
   "execution_count": 167,
   "metadata": {},
   "outputs": [
    {
     "data": {
      "image/png": "[encoded data removed]",
      "text/plain": [
       "<Figure size 640x480 with 1 Axes>"
      ]
     },
     "metadata": {},
     "output_type": "display_data"
    },
    {
     "data": {
      "text/plain": [
       "<Figure size 2000x800 with 0 Axes>"
      ]
     },
     "metadata": {},
     "output_type": "display_data"
    }
   ],
   "source": [
    "total_revenue=df.groupby('Publisher ')['publisher revenue'].sum().plot(kind='bar')\n",
    "plt.figure(figsize=(20,8))\n",
    "plt.show()"
   ]
  },
  {
   "cell_type": "markdown",
   "metadata": {},
   "source": [
    "most year of sold units "
   ]
  },
  {
   "cell_type": "code",
   "execution_count": 168,
   "metadata": {},
   "outputs": [
    {
     "data": {
      "image/png": "[encoded data removed]",
      "text/plain": [
       "<Figure size 640x480 with 1 Axes>"
      ]
     },
     "metadata": {},
     "output_type": "display_data"
    }
   ],
   "source": [
    "df.groupby('year')['units sold'].sum().head(10).plot(kind='bar')\n",
    "plt.ylabel('sold_units')\n",
    "plt.show()\n"
   ]
  },
  {
   "cell_type": "code",
   "execution_count": 169,
   "metadata": {},
   "outputs": [
    {
     "data": {
      "image/png": "[encoded data removed]",
      "text/plain": [
       "<Figure size 640x480 with 1 Axes>"
      ]
     },
     "metadata": {},
     "output_type": "display_data"
    }
   ],
   "source": [
    "plt.hist(df['year'])\n",
    "plt.xlabel(\"years\")\n",
    "plt.ylabel(\"freq\")\n",
    "plt.show()"
   ]
  },
  {
   "cell_type": "markdown",
   "metadata": {},
   "source": [
    "Max & Min price for the books "
   ]
  },
  {
   "cell_type": "code",
   "execution_count": 170,
   "metadata": {},
   "outputs": [
    {
     "name": "stdout",
     "output_type": "stream",
     "text": [
      "Max price is : 33.86\n",
      "min price is : 0.99\n"
     ]
    }
   ],
   "source": [
    "max_price=df['sale price'].max()\n",
    "print(\"Max price is : \"+str(max_price))\n",
    "\n",
    "min_price=df['sale price'].min()\n",
    "print(\"min price is : \"+str(min_price))"
   ]
  },
  {
   "cell_type": "markdown",
   "metadata": {},
   "source": [
    "Max & Min Average Rate"
   ]
  },
  {
   "cell_type": "code",
   "execution_count": 171,
   "metadata": {},
   "outputs": [
    {
     "name": "stdout",
     "output_type": "stream",
     "text": [
      "max ave rate :  4.77\n",
      "min ave rate :  2.97\n"
     ]
    }
   ],
   "source": [
    "max_rate=df['Book_average_rating'].max()\n",
    "print(\"max ave rate :  \"+str(max_rate))\n",
    "\n",
    "min_rate=df['Book_average_rating'].min()\n",
    "print(\"min ave rate :  \"+str(min_rate))"
   ]
  },
  {
   "cell_type": "markdown",
   "metadata": {},
   "source": [
    "Most Language used"
   ]
  },
  {
   "cell_type": "code",
   "execution_count": 172,
   "metadata": {},
   "outputs": [
    {
     "name": "stdout",
     "output_type": "stream",
     "text": [
      "language_code\n",
      "eng      774\n",
      "en-US    228\n",
      "en-GB     29\n",
      "en-CA      7\n",
      "fre        4\n",
      "spa        2\n",
      "ara        2\n",
      "nl         1\n",
      "Name: count, dtype: int64\n"
     ]
    }
   ],
   "source": [
    "used_language=df['language_code'].value_counts()\n",
    "print(used_language)"
   ]
  },
  {
   "cell_type": "code",
   "execution_count": 173,
   "metadata": {},
   "outputs": [
    {
     "data": {
      "image/png": "[encoded data removed]",
      "text/plain": [
       "<Figure size 640x480 with 1 Axes>"
      ]
     },
     "metadata": {},
     "output_type": "display_data"
    }
   ],
   "source": [
    "used_language=df['language_code'].value_counts().plot(kind='bar')\n",
    "plt.show()\n"
   ]
  },
  {
   "cell_type": "markdown",
   "metadata": {},
   "source": [
    "Author_Rating"
   ]
  },
  {
   "cell_type": "code",
   "execution_count": 174,
   "metadata": {},
   "outputs": [
    {
     "data": {
      "image/png": "[encoded data removed]",
      "text/plain": [
       "<Figure size 640x480 with 1 Axes>"
      ]
     },
     "metadata": {},
     "output_type": "display_data"
    }
   ],
   "source": [
    "total_Author_Rating=df['Author_Rating'].value_counts().plot(kind='bar')\n",
    "plt.show()"
   ]
  },
  {
   "cell_type": "markdown",
   "metadata": {},
   "source": [
    "Total gross sales for book"
   ]
  },
  {
   "cell_type": "code",
   "execution_count": 175,
   "metadata": {},
   "outputs": [
    {
     "name": "stdout",
     "output_type": "stream",
     "text": [
      "Book Name\n",
      "Go Set a Watchman                  47795.00\n",
      "When You Are Engulfed in Flames    41250.00\n",
      "Daughter of Smoke & Bone           37952.50\n",
      "Beowulf                            34160.00\n",
      "The Power of Habit                 27491.67\n",
      "                                     ...   \n",
      "Opal                                 105.93\n",
      "Intensity                            104.94\n",
      "Gray Mountain                        104.94\n",
      "Night Road                           104.94\n",
      "Airframe                             104.94\n",
      "Name: gross sales, Length: 1045, dtype: float64\n"
     ]
    }
   ],
   "source": [
    "total_gross_sales=df.groupby('Book Name')['gross sales'].sum().sort_values(ascending=False)\n",
    "print(total_gross_sales)"
   ]
  },
  {
   "cell_type": "code",
   "execution_count": 176,
   "metadata": {},
   "outputs": [
    {
     "data": {
      "image/png": "[encoded data removed]",
      "text/plain": [
       "<Figure size 640x480 with 1 Axes>"
      ]
     },
     "metadata": {},
     "output_type": "display_data"
    }
   ],
   "source": [
    "total_gross_sales=total_gross_sales.head(5)\n",
    "total_gross_sales.plot(kind='bar')\n",
    "plt.show()\n"
   ]
  },
  {
   "cell_type": "markdown",
   "metadata": {},
   "source": [
    "Sales_Rank for the Books"
   ]
  },
  {
   "cell_type": "code",
   "execution_count": 177,
   "metadata": {},
   "outputs": [
    {
     "data": {
      "text/plain": [
       "Book Name\n",
       "Persepolis                 2\n",
       "The Awakening              2\n",
       " A Monster Calls           1\n",
       "The Day of the Jackal      1\n",
       "The Diamond Age            1\n",
       "                          ..\n",
       "Inheritance                1\n",
       "Insomnia                   1\n",
       "Intensity                  1\n",
       "Interpreter of Maladies    1\n",
       "é€²æ’ƒã®å·¨äºº 1          1\n",
       "Name: sales rank, Length: 1045, dtype: int64"
      ]
     },
     "execution_count": 177,
     "metadata": {},
     "output_type": "execute_result"
    }
   ],
   "source": [
    "rank_sales=df.groupby('Book Name')['sales rank'].count().sort_values(ascending=False)\n",
    "rank_sales"
   ]
  },
  {
   "cell_type": "code",
   "execution_count": 178,
   "metadata": {},
   "outputs": [
    {
     "data": {
      "image/png": "[encoded data removed]",
      "text/plain": [
       "<Figure size 640x480 with 1 Axes>"
      ]
     },
     "metadata": {},
     "output_type": "display_data"
    }
   ],
   "source": [
    "rank_sales=rank_sales.head(5)\n",
    "rank_sales.plot(kind='bar')\n",
    "plt.xlabel(\"Book Name\")\n",
    "plt.ylabel(\"Rank\")\n",
    "plt.show()"
   ]
  },
  {
   "cell_type": "markdown",
   "metadata": {},
   "source": [
    "Sold units for the Author"
   ]
  },
  {
   "cell_type": "code",
   "execution_count": 179,
   "metadata": {},
   "outputs": [
    {
     "data": {
      "text/plain": [
       "Author\n",
       "Stephen King                      278322\n",
       "Janet Evanovich                   181089\n",
       "Lemony Snicket, Brett Helquist    158973\n",
       "Jim Butcher                       145827\n",
       "Robert Jordan                     126168\n",
       "Name: units sold, dtype: int64"
      ]
     },
     "execution_count": 179,
     "metadata": {},
     "output_type": "execute_result"
    }
   ],
   "source": [
    "units_Author=df.groupby('Author')['units sold'].sum().sort_values(ascending=False)\n",
    "units_Author.head(5)\n"
   ]
  },
  {
   "cell_type": "code",
   "execution_count": 180,
   "metadata": {},
   "outputs": [
    {
     "data": {
      "image/png": "[encoded data removed]",
      "text/plain": [
       "<Figure size 640x480 with 1 Axes>"
      ]
     },
     "metadata": {},
     "output_type": "display_data"
    }
   ],
   "source": [
    "units_Author=df.groupby('Author')['units sold'].sum().sort_values(ascending=False)\n",
    "units_Author=units_Author.head(5)\n",
    "units_Author.plot(kind='bar')\n",
    "plt.ylabel(\"sold_units\")\n",
    "plt.xticks(rotation=55)\n",
    "plt.show()\n"
   ]
  },
  {
   "cell_type": "markdown",
   "metadata": {},
   "source": [
    "Sold units per year"
   ]
  },
  {
   "cell_type": "code",
   "execution_count": 181,
   "metadata": {},
   "outputs": [
    {
     "data": {
      "text/plain": [
       "year\n",
       "2012    765426\n",
       "2011    634517\n",
       "2003    521747\n",
       "2010    486709\n",
       "2009    463842\n",
       "         ...  \n",
       "1928       108\n",
       "1896       107\n",
       "1957       107\n",
       "1911       107\n",
       "1879       106\n",
       "Name: units sold, Length: 132, dtype: int64"
      ]
     },
     "execution_count": 181,
     "metadata": {},
     "output_type": "execute_result"
    }
   ],
   "source": [
    "sold_year=df.groupby('year')['units sold'].sum().sort_values(ascending=False)\n",
    "sold_year"
   ]
  },
  {
   "cell_type": "code",
   "execution_count": 182,
   "metadata": {},
   "outputs": [
    {
     "data": {
      "image/png": "[encoded data removed]",
      "text/plain": [
       "<Figure size 640x480 with 1 Axes>"
      ]
     },
     "metadata": {},
     "output_type": "display_data"
    }
   ],
   "source": [
    "sold_year.head(5).plot(kind='bar')\n",
    "plt.ylabel('sold units')\n",
    "plt.show()\n"
   ]
  },
  {
   "cell_type": "code",
   "execution_count": 183,
   "metadata": {},
   "outputs": [
    {
     "data": {
      "image/png": "[encoded data removed]",
      "text/plain": [
       "<Figure size 640x480 with 1 Axes>"
      ]
     },
     "metadata": {},
     "output_type": "display_data"
    }
   ],
   "source": [
    "sns.boxenplot(x='genre',y='Book_ratings_count',data=df)\n",
    "plt.xlabel(\"genre\")\n",
    "plt.ylabel(\"Book_ratings_count\")\n",
    "plt.show()"
   ]
  },
  {
   "cell_type": "code",
   "execution_count": null,
   "metadata": {},
   "outputs": [
    {
     "data": {
      "application/vnd.plotly.v1+json": {
       "config": {
        "plotlyServerURL": "https://plot.ly"
       },
       "data": [
        {
         "hovertemplate": "Author_Rating=%{x}<br>count=%{y}<br>units sold=%{marker.color}<extra></extra>",
         "legendgroup": "",
         "marker": {
          "color": {
           "bdata": "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",
           "dtype": "i4"
          },
          "coloraxis": "coloraxis",
          "pattern": {
           "shape": ""
          }
         },
         "name": "",
         "orientation": "v",
         "showlegend": false,
         "text": {
          "bdata": "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",
          "dtype": "f8"
         },
         "textposition": "auto",
         "type": "bar",
         "x": [
          "Novice",
          "Intermediate",
          "Novice",
          "Intermediate",
          "Intermediate",
          "Intermediate",
          "Intermediate",
          "Intermediate",
          "Intermediate",
          "Intermediate",
          "Intermediate",
          "Intermediate",
          "Intermediate",
          "Intermediate",
          "Intermediate",
          "Intermediate",
          "Intermediate",
          "Intermediate",
          "Intermediate",
          "Intermediate",
          "Intermediate",
          "Intermediate",
          "Intermediate",
          "Intermediate",
          "Intermediate",
          "Intermediate",
          "Intermediate",
          "Intermediate",
          "Intermediate",
          "Intermediate",
          "Intermediate",
          "Intermediate",
          "Intermediate",
          "Intermediate",
          "Intermediate",
          "Intermediate",
          "Intermediate",
          "Intermediate",
          "Intermediate",
          "Intermediate",
          "Intermediate",
          "Intermediate",
          "Intermediate",
          "Intermediate",
          "Intermediate",
          "Intermediate",
          "Intermediate",
          "Intermediate",
          "Intermediate",
          "Novice",
          "Intermediate",
          "Intermediate",
          "Intermediate",
          "Intermediate",
          "Intermediate",
          "Intermediate",
          "Intermediate",
          "Intermediate",
          "Intermediate",
          "Intermediate",
          "Intermediate",
          "Intermediate",
          "Intermediate",
          "Intermediate",
          "Intermediate",
          "Intermediate",
          "Intermediate",
          "Intermediate",
          "Intermediate",
          "Intermediate",
          "Intermediate",
          "Intermediate",
          "Intermediate",
          "Intermediate",
          "Intermediate",
          "Intermediate",
          "Intermediate",
          "Intermediate",
          "Intermediate",
          "Intermediate",
          "Intermediate",
          "Intermediate",
          "Intermediate",
          "Intermediate",
          "Intermediate",
          "Intermediate",
          "Intermediate",
          "Intermediate",
          "Intermediate",
          "Intermediate",
          "Intermediate",
          "Intermediate",
          "Intermediate",
          "Intermediate",
          "Intermediate",
          "Intermediate",
          "Intermediate",
          "Intermediate",
          "Intermediate",
          "Intermediate",
          "Intermediate",
          "Intermediate",
          "Intermediate",
          "Intermediate",
          "Intermediate",
          "Intermediate",
          "Intermediate",
          "Intermediate",
          "Intermediate",
          "Intermediate",
          "Intermediate",
          "Intermediate",
          "Intermediate",
          "Intermediate",
          "Intermediate",
          "Intermediate",
          "Intermediate",
          "Intermediate",
          "Intermediate",
          "Intermediate",
          "Intermediate",
          "Intermediate",
          "Intermediate",
          "Intermediate",
          "Intermediate",
          "Intermediate",
          "Intermediate",
          "Intermediate",
          "Intermediate",
          "Intermediate",
          "Intermediate",
          "Intermediate",
          "Intermediate",
          "Intermediate",
          "Intermediate",
          "Intermediate",
          "Intermediate",
          "Intermediate",
          "Intermediate",
          "Intermediate",
          "Intermediate",
          "Intermediate",
          "Intermediate",
          "Intermediate",
          "Intermediate",
          "Intermediate",
          "Intermediate",
          "Intermediate",
          "Intermediate",
          "Intermediate",
          "Intermediate",
          "Intermediate",
          "Intermediate",
          "Intermediate",
          "Intermediate",
          "Intermediate",
          "Intermediate",
          "Intermediate",
          "Intermediate",
          "Intermediate",
          "Intermediate",
          "Intermediate",
          "Intermediate",
          "Intermediate",
          "Intermediate",
          "Intermediate",
          "Intermediate",
          "Intermediate",
          "Intermediate",
          "Intermediate",
          "Intermediate",
          "Intermediate",
          "Intermediate",
          "Intermediate",
          "Intermediate",
          "Intermediate",
          "Intermediate",
          "Intermediate",
          "Intermediate",
          "Intermediate",
          "Intermediate",
          "Intermediate",
          "Intermediate",
          "Intermediate",
          "Intermediate",
          "Intermediate",
          "Intermediate",
          "Intermediate",
          "Intermediate",
          "Intermediate",
          "Intermediate",
          "Intermediate",
          "Intermediate",
          "Intermediate",
          "Intermediate",
          "Intermediate",
          "Intermediate",
          "Intermediate",
          "Intermediate",
          "Intermediate",
          "Intermediate",
          "Intermediate",
          "Intermediate",
          "Intermediate",
          "Intermediate",
          "Intermediate",
          "Intermediate",
          "Intermediate",
          "Intermediate",
          "Intermediate",
          "Intermediate",
          "Intermediate",
          "Intermediate",
          "Intermediate",
          "Intermediate",
          "Intermediate",
          "Intermediate",
          "Intermediate",
          "Intermediate",
          "Intermediate",
          "Intermediate",
          "Intermediate",
          "Intermediate",
          "Intermediate",
          "Intermediate",
          "Intermediate",
          "Intermediate",
          "Intermediate",
          "Intermediate",
          "Intermediate",
          "Intermediate",
          "Intermediate",
          "Intermediate",
          "Intermediate",
          "Intermediate",
          "Intermediate",
          "Intermediate",
          "Intermediate",
          "Intermediate",
          "Intermediate",
          "Intermediate",
          "Intermediate",
          "Intermediate",
          "Intermediate",
          "Intermediate",
          "Intermediate",
          "Intermediate",
          "Intermediate",
          "Intermediate",
          "Intermediate",
          "Intermediate",
          "Intermediate",
          "Intermediate",
          "Intermediate",
          "Intermediate",
          "Intermediate",
          "Intermediate",
          "Intermediate",
          "Intermediate",
          "Intermediate",
          "Intermediate",
          "Intermediate",
          "Intermediate",
          "Intermediate",
          "Intermediate",
          "Intermediate",
          "Intermediate",
          "Intermediate",
          "Intermediate",
          "Intermediate",
          "Intermediate",
          "Intermediate",
          "Intermediate",
          "Intermediate",
          "Intermediate",
          "Intermediate",
          "Intermediate",
          "Intermediate",
          "Intermediate",
          "Intermediate",
          "Intermediate",
          "Intermediate",
          "Intermediate",
          "Intermediate",
          "Intermediate",
          "Intermediate",
          "Intermediate",
          "Intermediate",
          "Intermediate",
          "Intermediate",
          "Intermediate",
          "Intermediate",
          "Intermediate",
          "Intermediate",
          "Intermediate",
          "Intermediate",
          "Intermediate",
          "Intermediate",
          "Intermediate",
          "Intermediate",
          "Intermediate",
          "Intermediate",
          "Intermediate",
          "Intermediate",
          "Intermediate",
          "Intermediate",
          "Novice",
          "Intermediate",
          "Intermediate",
          "Intermediate",
          "Intermediate",
          "Intermediate",
          "Intermediate",
          "Intermediate",
          "Novice",
          "Intermediate",
          "Novice",
          "Intermediate",
          "Intermediate",
          "Novice",
          "Intermediate",
          "Intermediate",
          "Intermediate",
          "Intermediate",
          "Intermediate",
          "Intermediate",
          "Intermediate",
          "Intermediate",
          "Intermediate",
          "Intermediate",
          "Intermediate",
          "Intermediate",
          "Intermediate",
          "Intermediate",
          "Intermediate",
          "Intermediate",
          "Intermediate",
          "Intermediate",
          "Intermediate",
          "Intermediate",
          "Intermediate",
          "Intermediate",
          "Intermediate",
          "Intermediate",
          "Intermediate",
          "Intermediate",
          "Intermediate",
          "Intermediate",
          "Intermediate",
          "Intermediate",
          "Intermediate",
          "Intermediate",
          "Novice",
          "Intermediate",
          "Intermediate",
          "Intermediate",
          "Intermediate",
          "Intermediate",
          "Intermediate",
          "Intermediate",
          "Intermediate",
          "Intermediate",
          "Intermediate",
          "Intermediate",
          "Intermediate",
          "Intermediate",
          "Intermediate",
          "Intermediate",
          "Novice",
          "Intermediate",
          "Intermediate",
          "Intermediate",
          "Intermediate",
          "Intermediate",
          "Intermediate",
          "Intermediate",
          "Intermediate",
          "Intermediate",
          "Intermediate",
          "Intermediate",
          "Intermediate",
          "Intermediate",
          "Intermediate",
          "Intermediate",
          "Intermediate",
          "Intermediate",
          "Intermediate",
          "Intermediate",
          "Intermediate",
          "Intermediate",
          "Intermediate",
          "Novice",
          "Intermediate",
          "Intermediate",
          "Intermediate",
          "Intermediate",
          "Intermediate",
          "Intermediate",
          "Novice",
          "Intermediate",
          "Intermediate",
          "Intermediate",
          "Intermediate",
          "Intermediate",
          "Intermediate",
          "Intermediate",
          "Intermediate",
          "Intermediate",
          "Intermediate",
          "Novice",
          "Intermediate",
          "Intermediate",
          "Intermediate",
          "Intermediate",
          "Intermediate",
          "Intermediate",
          "Intermediate",
          "Intermediate",
          "Intermediate",
          "Intermediate",
          "Intermediate",
          "Intermediate",
          "Intermediate",
          "Intermediate",
          "Intermediate",
          "Intermediate",
          "Intermediate",
          "Intermediate",
          "Intermediate",
          "Intermediate",
          "Intermediate",
          "Intermediate",
          "Intermediate",
          "Intermediate",
          "Intermediate",
          "Intermediate",
          "Intermediate",
          "Intermediate",
          "Intermediate",
          "Intermediate",
          "Intermediate",
          "Novice",
          "Intermediate",
          "Intermediate",
          "Intermediate",
          "Intermediate",
          "Intermediate",
          "Intermediate",
          "Intermediate",
          "Intermediate",
          "Intermediate",
          "Intermediate",
          "Intermediate",
          "Intermediate",
          "Intermediate",
          "Intermediate",
          "Intermediate",
          "Intermediate",
          "Intermediate",
          "Intermediate",
          "Intermediate",
          "Intermediate",
          "Intermediate",
          "Intermediate",
          "Intermediate",
          "Intermediate",
          "Intermediate",
          "Intermediate",
          "Intermediate",
          "Intermediate",
          "Intermediate",
          "Intermediate",
          "Intermediate",
          "Intermediate",
          "Intermediate",
          "Intermediate",
          "Intermediate",
          "Intermediate",
          "Intermediate",
          "Intermediate",
          "Intermediate",
          "Intermediate",
          "Intermediate",
          "Intermediate",
          "Intermediate",
          "Intermediate",
          "Intermediate",
          "Intermediate",
          "Intermediate",
          "Intermediate",
          "Intermediate",
          "Intermediate",
          "Intermediate",
          "Intermediate",
          "Intermediate",
          "Intermediate",
          "Intermediate",
          "Intermediate",
          "Intermediate",
          "Intermediate",
          "Intermediate",
          "Intermediate",
          "Intermediate",
          "Novice",
          "Intermediate",
          "Intermediate",
          "Intermediate",
          "Intermediate",
          "Intermediate",
          "Intermediate",
          "Intermediate",
          "Intermediate",
          "Intermediate",
          "Intermediate",
          "Intermediate",
          "Intermediate",
          "Intermediate",
          "Intermediate",
          "Novice",
          "Intermediate",
          "Intermediate",
          "Intermediate",
          "Intermediate",
          "Intermediate",
          "Intermediate",
          "Intermediate",
          "Intermediate",
          "Intermediate",
          "Intermediate",
          "Intermediate",
          "Intermediate",
          "Intermediate",
          "Intermediate",
          "Intermediate",
          "Intermediate",
          "Intermediate",
          "Intermediate",
          "Intermediate",
          "Intermediate",
          "Intermediate",
          "Intermediate",
          "Intermediate",
          "Intermediate",
          "Intermediate",
          "Intermediate",
          "Intermediate",
          "Intermediate",
          "Intermediate",
          "Intermediate",
          "Intermediate",
          "Intermediate",
          "Novice",
          "Novice",
          "Intermediate",
          "Intermediate",
          "Intermediate",
          "Intermediate",
          "Intermediate",
          "Novice",
          "Intermediate",
          "Intermediate",
          "Intermediate",
          "Intermediate",
          "Intermediate",
          "Intermediate",
          "Intermediate",
          "Intermediate",
          "Intermediate",
          "Intermediate",
          "Intermediate",
          "Intermediate",
          "Intermediate",
          "Intermediate",
          "Intermediate",
          "Intermediate",
          "Intermediate",
          "Intermediate",
          "Intermediate",
          "Intermediate",
          "Intermediate",
          "Novice",
          "Intermediate",
          "Intermediate",
          "Intermediate",
          "Intermediate",
          "Intermediate",
          "Intermediate",
          "Intermediate",
          "Intermediate",
          "Intermediate",
          "Intermediate",
          "Intermediate",
          "Intermediate",
          "Intermediate",
          "Intermediate",
          "Intermediate",
          "Intermediate",
          "Intermediate",
          "Intermediate",
          "Intermediate",
          "Intermediate",
          "Intermediate",
          "Intermediate",
          "Intermediate",
          "Intermediate",
          "Intermediate",
          "Intermediate",
          "Intermediate",
          "Intermediate",
          "Intermediate",
          "Intermediate",
          "Intermediate",
          "Intermediate",
          "Intermediate",
          "Intermediate",
          "Intermediate",
          "Intermediate",
          "Intermediate",
          "Intermediate",
          "Intermediate",
          "Intermediate",
          "Intermediate",
          "Intermediate",
          "Intermediate",
          "Intermediate",
          "Intermediate",
          "Intermediate",
          "Intermediate",
          "Intermediate",
          "Intermediate",
          "Intermediate",
          "Intermediate",
          "Intermediate",
          "Intermediate",
          "Intermediate",
          "Intermediate",
          "Intermediate"
         ],
         "xaxis": "x",
         "y": {
          "bdata": "AQEBAQEBAQEBAQEBAQEBAQEBAQEBAQEBAQEBAQEBAQEBAQEBAQEBAQEBAQEBAQEBAQEBAQEBAQEBAQEBAQEBAQEBAQEBAQEBAQEBAQEBAQEBAQEBAQEBAQEBAQEBAQEBAQEBAQEBAQEBAQEBAQEBAQEBAQEBAQEBAQEBAQEBAQEBAQEBAQEBAQEBAQEBAQEBAQEBAQEBAQEBAQEBAQEBAQEBAQEBAQEBAQEBAQEBAQEBAQEBAQEBAQEBAQEBAQEBAQEBAQEBAQEBAQEBAQEBAQEBAQEBAQEBAQEBAQEBAQEBAQEBAQEBAQEBAQEBAQEBAQEBAQEBAQEBAQEBAQEBAQEBAQEBAQEBAQEBAQEBAQEBAQEBAQEBAQEBAQEBAQEBAQEBAQEBAQEBAQEBAQEBAQEBAQEBAQEBAQEBAQEBAQEBAQEBAQEBAQEBAQEBAQEBAQEBAQEBAQEBAQEBAQEBAQEBAQEBAQEBAQEBAQEBAQEBAQEBAQEBAQEBAQEBAQEBAQEBAQEBAQEBAQEBAQEBAQEBAQEBAQEBAQEBAQEBAQEBAQEBAQEBAQEBAQEBAQEBAQEBAQEBAQEBAQEBAQEBAQEBAQEBAQEBAQEBAQEBAQEBAQEBAQEBAQEBAQEBAQEBAQEBAQEBAQEBAQEBAQEBAQEBAQEBAQEBAQEBAQEBAQEBAQEBAQEBAQEBAQEBAQEBAQEBAQEBAQEBAQEBAQEBAQEBAQEBAQEBAQEBAQEBAQEBAQEBAQEBAQEBAQEBAQEBAQEBAQEBAQEBAQEBAQEBAQEBAQEBAQEBAQEBAQEBAQEBAQEBAQEBAQEBAQEBAQEBAQEBAQEBAQEBAQEBAQ==",
          "dtype": "i1"
         },
         "yaxis": "y"
        }
       ],
       "layout": {
        "barmode": "relative",
        "coloraxis": {
         "colorbar": {
          "title": {
           "text": "units sold"
          }
         },
         "colorscale": [
          [
           0,
           "#0d0887"
          ],
          [
           0.1111111111111111,
           "#46039f"
          ],
          [
           0.2222222222222222,
           "#7201a8"
          ],
          [
           0.3333333333333333,
           "#9c179e"
          ],
          [
           0.4444444444444444,
           "#bd3786"
          ],
          [
           0.5555555555555556,
           "#d8576b"
          ],
          [
           0.6666666666666666,
           "#ed7953"
          ],
          [
           0.7777777777777778,
           "#fb9f3a"
          ],
          [
           0.8888888888888888,
           "#fdca26"
          ],
          [
           1,
           "#f0f921"
          ]
         ]
        },
        "legend": {
         "tracegroupgap": 0
        },
        "margin": {
         "t": 60
        },
        "template": {
         "data": {
          "bar": [
           {
            "error_x": {
             "color": "#2a3f5f"
            },
            "error_y": {
             "color": "#2a3f5f"
            },
            "marker": {
             "line": {
              "color": "#E5ECF6",
              "width": 0.5
             },
             "pattern": {
              "fillmode": "overlay",
              "size": 10,
              "solidity": 0.2
             }
            },
            "type": "bar"
           }
          ],
          "barpolar": [
           {
            "marker": {
             "line": {
              "color": "#E5ECF6",
              "width": 0.5
             },
             "pattern": {
              "fillmode": "overlay",
              "size": 10,
              "solidity": 0.2
             }
            },
            "type": "barpolar"
           }
          ],
          "carpet": [
           {
            "aaxis": {
             "endlinecolor": "#2a3f5f",
             "gridcolor": "white",
             "linecolor": "white",
             "minorgridcolor": "white",
             "startlinecolor": "#2a3f5f"
            },
            "baxis": {
             "endlinecolor": "#2a3f5f",
             "gridcolor": "white",
             "linecolor": "white",
             "minorgridcolor": "white",
             "startlinecolor": "#2a3f5f"
            },
            "type": "carpet"
           }
          ],
          "choropleth": [
           {
            "colorbar": {
             "outlinewidth": 0,
             "ticks": ""
            },
            "type": "choropleth"
           }
          ],
          "contour": [
           {
            "colorbar": {
             "outlinewidth": 0,
             "ticks": ""
            },
            "colorscale": [
             [
              0,
              "#0d0887"
             ],
             [
              0.1111111111111111,
              "#46039f"
             ],
             [
              0.2222222222222222,
              "#7201a8"
             ],
             [
              0.3333333333333333,
              "#9c179e"
             ],
             [
              0.4444444444444444,
              "#bd3786"
             ],
             [
              0.5555555555555556,
              "#d8576b"
             ],
             [
              0.6666666666666666,
              "#ed7953"
             ],
             [
              0.7777777777777778,
              "#fb9f3a"
             ],
             [
              0.8888888888888888,
              "#fdca26"
             ],
             [
              1,
              "#f0f921"
             ]
            ],
            "type": "contour"
           }
          ],
          "contourcarpet": [
           {
            "colorbar": {
             "outlinewidth": 0,
             "ticks": ""
            },
            "type": "contourcarpet"
           }
          ],
          "heatmap": [
           {
            "colorbar": {
             "outlinewidth": 0,
             "ticks": ""
            },
            "colorscale": [
             [
              0,
              "#0d0887"
             ],
             [
              0.1111111111111111,
              "#46039f"
             ],
             [
              0.2222222222222222,
              "#7201a8"
             ],
             [
              0.3333333333333333,
              "#9c179e"
             ],
             [
              0.4444444444444444,
              "#bd3786"
             ],
             [
              0.5555555555555556,
              "#d8576b"
             ],
             [
              0.6666666666666666,
              "#ed7953"
             ],
             [
              0.7777777777777778,
              "#fb9f3a"
             ],
             [
              0.8888888888888888,
              "#fdca26"
             ],
             [
              1,
              "#f0f921"
             ]
            ],
            "type": "heatmap"
           }
          ],
          "histogram": [
           {
            "marker": {
             "pattern": {
              "fillmode": "overlay",
              "size": 10,
              "solidity": 0.2
             }
            },
            "type": "histogram"
           }
          ],
          "histogram2d": [
           {
            "colorbar": {
             "outlinewidth": 0,
             "ticks": ""
            },
            "colorscale": [
             [
              0,
              "#0d0887"
             ],
             [
              0.1111111111111111,
              "#46039f"
             ],
             [
              0.2222222222222222,
              "#7201a8"
             ],
             [
              0.3333333333333333,
              "#9c179e"
             ],
             [
              0.4444444444444444,
              "#bd3786"
             ],
             [
              0.5555555555555556,
              "#d8576b"
             ],
             [
              0.6666666666666666,
              "#ed7953"
             ],
             [
              0.7777777777777778,
              "#fb9f3a"
             ],
             [
              0.8888888888888888,
              "#fdca26"
             ],
             [
              1,
              "#f0f921"
             ]
            ],
            "type": "histogram2d"
           }
          ],
          "histogram2dcontour": [
           {
            "colorbar": {
             "outlinewidth": 0,
             "ticks": ""
            },
            "colorscale": [
             [
              0,
              "#0d0887"
             ],
             [
              0.1111111111111111,
              "#46039f"
             ],
             [
              0.2222222222222222,
              "#7201a8"
             ],
             [
              0.3333333333333333,
              "#9c179e"
             ],
             [
              0.4444444444444444,
              "#bd3786"
             ],
             [
              0.5555555555555556,
              "#d8576b"
             ],
             [
              0.6666666666666666,
              "#ed7953"
             ],
             [
              0.7777777777777778,
              "#fb9f3a"
             ],
             [
              0.8888888888888888,
              "#fdca26"
             ],
             [
              1,
              "#f0f921"
             ]
            ],
            "type": "histogram2dcontour"
           }
          ],
          "mesh3d": [
           {
            "colorbar": {
             "outlinewidth": 0,
             "ticks": ""
            },
            "type": "mesh3d"
           }
          ],
          "parcoords": [
           {
            "line": {
             "colorbar": {
              "outlinewidth": 0,
              "ticks": ""
             }
            },
            "type": "parcoords"
           }
          ],
          "pie": [
           {
            "automargin": true,
            "type": "pie"
           }
          ],
          "scatter": [
           {
            "fillpattern": {
             "fillmode": "overlay",
             "size": 10,
             "solidity": 0.2
            },
            "type": "scatter"
           }
          ],
          "scatter3d": [
           {
            "line": {
             "colorbar": {
              "outlinewidth": 0,
              "ticks": ""
             }
            },
            "marker": {
             "colorbar": {
              "outlinewidth": 0,
              "ticks": ""
             }
            },
            "type": "scatter3d"
           }
          ],
          "scattercarpet": [
           {
            "marker": {
             "colorbar": {
              "outlinewidth": 0,
              "ticks": ""
             }
            },
            "type": "scattercarpet"
           }
          ],
          "scattergeo": [
           {
            "marker": {
             "colorbar": {
              "outlinewidth": 0,
              "ticks": ""
             }
            },
            "type": "scattergeo"
           }
          ],
          "scattergl": [
           {
            "marker": {
             "colorbar": {
              "outlinewidth": 0,
              "ticks": ""
             }
            },
            "type": "scattergl"
           }
          ],
          "scattermap": [
           {
            "marker": {
             "colorbar": {
              "outlinewidth": 0,
              "ticks": ""
             }
            },
            "type": "scattermap"
           }
          ],
          "scattermapbox": [
           {
            "marker": {
             "colorbar": {
              "outlinewidth": 0,
              "ticks": ""
             }
            },
            "type": "scattermapbox"
           }
          ],
          "scatterpolar": [
           {
            "marker": {
             "colorbar": {
              "outlinewidth": 0,
              "ticks": ""
             }
            },
            "type": "scatterpolar"
           }
          ],
          "scatterpolargl": [
           {
            "marker": {
             "colorbar": {
              "outlinewidth": 0,
              "ticks": ""
             }
            },
            "type": "scatterpolargl"
           }
          ],
          "scatterternary": [
           {
            "marker": {
             "colorbar": {
              "outlinewidth": 0,
              "ticks": ""
             }
            },
            "type": "scatterternary"
           }
          ],
          "surface": [
           {
            "colorbar": {
             "outlinewidth": 0,
             "ticks": ""
            },
            "colorscale": [
             [
              0,
              "#0d0887"
             ],
             [
              0.1111111111111111,
              "#46039f"
             ],
             [
              0.2222222222222222,
              "#7201a8"
             ],
             [
              0.3333333333333333,
              "#9c179e"
             ],
             [
              0.4444444444444444,
              "#bd3786"
             ],
             [
              0.5555555555555556,
              "#d8576b"
             ],
             [
              0.6666666666666666,
              "#ed7953"
             ],
             [
              0.7777777777777778,
              "#fb9f3a"
             ],
             [
              0.8888888888888888,
              "#fdca26"
             ],
             [
              1,
              "#f0f921"
             ]
            ],
            "type": "surface"
           }
          ],
          "table": [
           {
            "cells": {
             "fill": {
              "color": "#EBF0F8"
             },
             "line": {
              "color": "white"
             }
            },
            "header": {
             "fill": {
              "color": "#C8D4E3"
             },
             "line": {
              "color": "white"
             }
            },
            "type": "table"
           }
          ]
         },
         "layout": {
          "annotationdefaults": {
           "arrowcolor": "#2a3f5f",
           "arrowhead": 0,
           "arrowwidth": 1
          },
          "autotypenumbers": "strict",
          "coloraxis": {
           "colorbar": {
            "outlinewidth": 0,
            "ticks": ""
           }
          },
          "colorscale": {
           "diverging": [
            [
             0,
             "#8e0152"
            ],
            [
             0.1,
             "#c51b7d"
            ],
            [
             0.2,
             "#de77ae"
            ],
            [
             0.3,
             "#f1b6da"
            ],
            [
             0.4,
             "#fde0ef"
            ],
            [
             0.5,
             "#f7f7f7"
            ],
            [
             0.6,
             "#e6f5d0"
            ],
            [
             0.7,
             "#b8e186"
            ],
            [
             0.8,
             "#7fbc41"
            ],
            [
             0.9,
             "#4d9221"
            ],
            [
             1,
             "#276419"
            ]
           ],
           "sequential": [
            [
             0,
             "#0d0887"
            ],
            [
             0.1111111111111111,
             "#46039f"
            ],
            [
             0.2222222222222222,
             "#7201a8"
            ],
            [
             0.3333333333333333,
             "#9c179e"
            ],
            [
             0.4444444444444444,
             "#bd3786"
            ],
            [
             0.5555555555555556,
             "#d8576b"
            ],
            [
             0.6666666666666666,
             "#ed7953"
            ],
            [
             0.7777777777777778,
             "#fb9f3a"
            ],
            [
             0.8888888888888888,
             "#fdca26"
            ],
            [
             1,
             "#f0f921"
            ]
           ],
           "sequentialminus": [
            [
             0,
             "#0d0887"
            ],
            [
             0.1111111111111111,
             "#46039f"
            ],
            [
             0.2222222222222222,
             "#7201a8"
            ],
            [
             0.3333333333333333,
             "#9c179e"
            ],
            [
             0.4444444444444444,
             "#bd3786"
            ],
            [
             0.5555555555555556,
             "#d8576b"
            ],
            [
             0.6666666666666666,
             "#ed7953"
            ],
            [
             0.7777777777777778,
             "#fb9f3a"
            ],
            [
             0.8888888888888888,
             "#fdca26"
            ],
            [
             1,
             "#f0f921"
            ]
           ]
          },
          "colorway": [
           "#636efa",
           "#EF553B",
           "#00cc96",
           "#ab63fa",
           "#FFA15A",
           "#19d3f3",
           "#FF6692",
           "#B6E880",
           "#FF97FF",
           "#FECB52"
          ],
          "font": {
           "color": "#2a3f5f"
          },
          "geo": {
           "bgcolor": "white",
           "lakecolor": "white",
           "landcolor": "#E5ECF6",
           "showlakes": true,
           "showland": true,
           "subunitcolor": "white"
          },
          "hoverlabel": {
           "align": "left"
          },
          "hovermode": "closest",
          "mapbox": {
           "style": "light"
          },
          "paper_bgcolor": "white",
          "plot_bgcolor": "#E5ECF6",
          "polar": {
           "angularaxis": {
            "gridcolor": "white",
            "linecolor": "white",
            "ticks": ""
           },
           "bgcolor": "#E5ECF6",
           "radialaxis": {
            "gridcolor": "white",
            "linecolor": "white",
            "ticks": ""
           }
          },
          "scene": {
           "xaxis": {
            "backgroundcolor": "#E5ECF6",
            "gridcolor": "white",
            "gridwidth": 2,
            "linecolor": "white",
            "showbackground": true,
            "ticks": "",
            "zerolinecolor": "white"
           },
           "yaxis": {
            "backgroundcolor": "#E5ECF6",
            "gridcolor": "white",
            "gridwidth": 2,
            "linecolor": "white",
            "showbackground": true,
            "ticks": "",
            "zerolinecolor": "white"
           },
           "zaxis": {
            "backgroundcolor": "#E5ECF6",
            "gridcolor": "white",
            "gridwidth": 2,
            "linecolor": "white",
            "showbackground": true,
            "ticks": "",
            "zerolinecolor": "white"
           }
          },
          "shapedefaults": {
           "line": {
            "color": "#2a3f5f"
           }
          },
          "ternary": {
           "aaxis": {
            "gridcolor": "white",
            "linecolor": "white",
            "ticks": ""
           },
           "baxis": {
            "gridcolor": "white",
            "linecolor": "white",
            "ticks": ""
           },
           "bgcolor": "#E5ECF6",
           "caxis": {
            "gridcolor": "white",
            "linecolor": "white",
            "ticks": ""
           }
          },
          "title": {
           "x": 0.05
          },
          "xaxis": {
           "automargin": true,
           "gridcolor": "white",
           "linecolor": "white",
           "ticks": "",
           "title": {
            "standoff": 15
           },
           "zerolinecolor": "white",
           "zerolinewidth": 2
          },
          "yaxis": {
           "automargin": true,
           "gridcolor": "white",
           "linecolor": "white",
           "ticks": "",
           "title": {
            "standoff": 15
           },
           "zerolinecolor": "white",
           "zerolinewidth": 2
          }
         }
        },
        "xaxis": {
         "anchor": "y",
         "domain": [
          0,
          1
         ],
         "title": {
          "text": "Author_Rating"
         }
        },
        "yaxis": {
         "anchor": "x",
         "domain": [
          0,
          1
         ],
         "title": {
          "text": "count"
         }
        }
       }
      }
     },
     "metadata": {},
     "output_type": "display_data"
    }
   ],
   "source": [
    "fildata_farme=df[(df['Author_Rating']==\"Intermediate\")|(df['Author_Rating']==\"Novice\")&(df['units sold']>=1000)]\n",
    "fig=px.bar(data_frame=fildata_farme,x='Author_Rating',text='units sold',color='units sold')\n",
    "fig.show()\n"
   ]
  },
  {
   "cell_type": "code",
   "execution_count": 194,
   "metadata": {},
   "outputs": [
    {
     "data": {
      "text/html": [
       "<div>\n",
       "<style scoped>\n",
       "    .dataframe tbody tr th:only-of-type {\n",
       "        vertical-align: middle;\n",
       "    }\n",
       "\n",
       "    .dataframe tbody tr th {\n",
       "        vertical-align: top;\n",
       "    }\n",
       "\n",
       "    .dataframe thead th {\n",
       "        text-align: right;\n",
       "    }\n",
       "</style>\n",
       "<table border=\"1\" class=\"dataframe\">\n",
       "  <thead>\n",
       "    <tr style=\"text-align: right;\">\n",
       "      <th></th>\n",
       "      <th>index</th>\n",
       "      <th>Publishing Year</th>\n",
       "      <th>Book Name</th>\n",
       "      <th>Author</th>\n",
       "      <th>language_code</th>\n",
       "      <th>Author_Rating</th>\n",
       "      <th>Book_average_rating</th>\n",
       "      <th>Book_ratings_count</th>\n",
       "      <th>genre</th>\n",
       "      <th>gross sales</th>\n",
       "      <th>publisher revenue</th>\n",
       "      <th>sale price</th>\n",
       "      <th>sales rank</th>\n",
       "      <th>Publisher</th>\n",
       "      <th>units sold</th>\n",
       "      <th>year</th>\n",
       "    </tr>\n",
       "  </thead>\n",
       "  <tbody>\n",
       "    <tr>\n",
       "      <th>0</th>\n",
       "      <td>0</td>\n",
       "      <td>1975-01-01</td>\n",
       "      <td>Beowulf</td>\n",
       "      <td>Unknown, Seamus Heaney</td>\n",
       "      <td>en-US</td>\n",
       "      <td>Novice</td>\n",
       "      <td>3.42</td>\n",
       "      <td>155903</td>\n",
       "      <td>genre fiction</td>\n",
       "      <td>34160.00</td>\n",
       "      <td>20496.000</td>\n",
       "      <td>4.88</td>\n",
       "      <td>1</td>\n",
       "      <td>HarperCollins Publishers</td>\n",
       "      <td>7000</td>\n",
       "      <td>1975</td>\n",
       "    </tr>\n",
       "    <tr>\n",
       "      <th>1</th>\n",
       "      <td>1</td>\n",
       "      <td>1987-01-01</td>\n",
       "      <td>Batman: Year One</td>\n",
       "      <td>Frank Miller, David Mazzucchelli, Richmond Lew...</td>\n",
       "      <td>eng</td>\n",
       "      <td>Intermediate</td>\n",
       "      <td>4.23</td>\n",
       "      <td>145267</td>\n",
       "      <td>genre fiction</td>\n",
       "      <td>12437.50</td>\n",
       "      <td>7462.500</td>\n",
       "      <td>1.99</td>\n",
       "      <td>2</td>\n",
       "      <td>HarperCollins Publishers</td>\n",
       "      <td>6250</td>\n",
       "      <td>1987</td>\n",
       "    </tr>\n",
       "    <tr>\n",
       "      <th>2</th>\n",
       "      <td>2</td>\n",
       "      <td>2015-01-01</td>\n",
       "      <td>Go Set a Watchman</td>\n",
       "      <td>Harper Lee</td>\n",
       "      <td>eng</td>\n",
       "      <td>Novice</td>\n",
       "      <td>3.31</td>\n",
       "      <td>138669</td>\n",
       "      <td>genre fiction</td>\n",
       "      <td>47795.00</td>\n",
       "      <td>28677.000</td>\n",
       "      <td>8.69</td>\n",
       "      <td>3</td>\n",
       "      <td>Amazon Digital Services,  Inc.</td>\n",
       "      <td>5500</td>\n",
       "      <td>2015</td>\n",
       "    </tr>\n",
       "    <tr>\n",
       "      <th>3</th>\n",
       "      <td>3</td>\n",
       "      <td>2008-01-01</td>\n",
       "      <td>When You Are Engulfed in Flames</td>\n",
       "      <td>David Sedaris</td>\n",
       "      <td>en-US</td>\n",
       "      <td>Intermediate</td>\n",
       "      <td>4.04</td>\n",
       "      <td>150898</td>\n",
       "      <td>fiction</td>\n",
       "      <td>41250.00</td>\n",
       "      <td>24750.000</td>\n",
       "      <td>7.50</td>\n",
       "      <td>3</td>\n",
       "      <td>Hachette Book Group</td>\n",
       "      <td>5500</td>\n",
       "      <td>2008</td>\n",
       "    </tr>\n",
       "    <tr>\n",
       "      <th>4</th>\n",
       "      <td>4</td>\n",
       "      <td>2011-01-01</td>\n",
       "      <td>Daughter of Smoke &amp; Bone</td>\n",
       "      <td>Laini Taylor</td>\n",
       "      <td>eng</td>\n",
       "      <td>Intermediate</td>\n",
       "      <td>4.04</td>\n",
       "      <td>198283</td>\n",
       "      <td>genre fiction</td>\n",
       "      <td>37952.50</td>\n",
       "      <td>22771.500</td>\n",
       "      <td>7.99</td>\n",
       "      <td>4</td>\n",
       "      <td>Penguin Group (USA) LLC</td>\n",
       "      <td>4750</td>\n",
       "      <td>2011</td>\n",
       "    </tr>\n",
       "    <tr>\n",
       "      <th>...</th>\n",
       "      <td>...</td>\n",
       "      <td>...</td>\n",
       "      <td>...</td>\n",
       "      <td>...</td>\n",
       "      <td>...</td>\n",
       "      <td>...</td>\n",
       "      <td>...</td>\n",
       "      <td>...</td>\n",
       "      <td>...</td>\n",
       "      <td>...</td>\n",
       "      <td>...</td>\n",
       "      <td>...</td>\n",
       "      <td>...</td>\n",
       "      <td>...</td>\n",
       "      <td>...</td>\n",
       "      <td>...</td>\n",
       "    </tr>\n",
       "    <tr>\n",
       "      <th>1065</th>\n",
       "      <td>1065</td>\n",
       "      <td>2014-01-01</td>\n",
       "      <td>Gray Mountain</td>\n",
       "      <td>John Grisham</td>\n",
       "      <td>eng</td>\n",
       "      <td>Intermediate</td>\n",
       "      <td>3.52</td>\n",
       "      <td>37379</td>\n",
       "      <td>nonfiction</td>\n",
       "      <td>104.94</td>\n",
       "      <td>62.964</td>\n",
       "      <td>0.99</td>\n",
       "      <td>1268</td>\n",
       "      <td>Amazon Digital Services,  Inc.</td>\n",
       "      <td>106</td>\n",
       "      <td>2014</td>\n",
       "    </tr>\n",
       "    <tr>\n",
       "      <th>1066</th>\n",
       "      <td>1066</td>\n",
       "      <td>1989-01-01</td>\n",
       "      <td>The Power of One</td>\n",
       "      <td>Bryce Courtenay</td>\n",
       "      <td>eng</td>\n",
       "      <td>Excellent</td>\n",
       "      <td>4.34</td>\n",
       "      <td>57312</td>\n",
       "      <td>genre fiction</td>\n",
       "      <td>846.94</td>\n",
       "      <td>508.164</td>\n",
       "      <td>7.99</td>\n",
       "      <td>1270</td>\n",
       "      <td>Random House LLC</td>\n",
       "      <td>106</td>\n",
       "      <td>1989</td>\n",
       "    </tr>\n",
       "    <tr>\n",
       "      <th>1067</th>\n",
       "      <td>1067</td>\n",
       "      <td>1930-01-01</td>\n",
       "      <td>The Maltese Falcon</td>\n",
       "      <td>Dashiell Hammett</td>\n",
       "      <td>eng</td>\n",
       "      <td>Intermediate</td>\n",
       "      <td>3.92</td>\n",
       "      <td>58742</td>\n",
       "      <td>genre fiction</td>\n",
       "      <td>846.94</td>\n",
       "      <td>508.164</td>\n",
       "      <td>7.99</td>\n",
       "      <td>1271</td>\n",
       "      <td>Hachette Book Group</td>\n",
       "      <td>106</td>\n",
       "      <td>1930</td>\n",
       "    </tr>\n",
       "    <tr>\n",
       "      <th>1068</th>\n",
       "      <td>1068</td>\n",
       "      <td>2011-01-01</td>\n",
       "      <td>Night Road</td>\n",
       "      <td>Kristin Hannah</td>\n",
       "      <td>en-US</td>\n",
       "      <td>Excellent</td>\n",
       "      <td>4.17</td>\n",
       "      <td>58028</td>\n",
       "      <td>genre fiction</td>\n",
       "      <td>104.94</td>\n",
       "      <td>62.964</td>\n",
       "      <td>0.99</td>\n",
       "      <td>1272</td>\n",
       "      <td>Amazon Digital Services,  Inc.</td>\n",
       "      <td>106</td>\n",
       "      <td>2011</td>\n",
       "    </tr>\n",
       "    <tr>\n",
       "      <th>1069</th>\n",
       "      <td>1069</td>\n",
       "      <td>1999-01-01</td>\n",
       "      <td>Tripwire</td>\n",
       "      <td>Lee Child</td>\n",
       "      <td>eng</td>\n",
       "      <td>Excellent</td>\n",
       "      <td>4.07</td>\n",
       "      <td>55251</td>\n",
       "      <td>genre fiction</td>\n",
       "      <td>316.94</td>\n",
       "      <td>0.000</td>\n",
       "      <td>2.99</td>\n",
       "      <td>1273</td>\n",
       "      <td>Amazon Digital Services,  Inc.</td>\n",
       "      <td>106</td>\n",
       "      <td>1999</td>\n",
       "    </tr>\n",
       "  </tbody>\n",
       "</table>\n",
       "<p>1047 rows × 16 columns</p>\n",
       "</div>"
      ],
      "text/plain": [
       "      index Publishing Year                        Book Name  \\\n",
       "0         0      1975-01-01                          Beowulf   \n",
       "1         1      1987-01-01                 Batman: Year One   \n",
       "2         2      2015-01-01                Go Set a Watchman   \n",
       "3         3      2008-01-01  When You Are Engulfed in Flames   \n",
       "4         4      2011-01-01         Daughter of Smoke & Bone   \n",
       "...     ...             ...                              ...   \n",
       "1065   1065      2014-01-01                    Gray Mountain   \n",
       "1066   1066      1989-01-01                 The Power of One   \n",
       "1067   1067      1930-01-01               The Maltese Falcon   \n",
       "1068   1068      2011-01-01                       Night Road   \n",
       "1069   1069      1999-01-01                         Tripwire   \n",
       "\n",
       "                                                 Author language_code  \\\n",
       "0                                Unknown, Seamus Heaney         en-US   \n",
       "1     Frank Miller, David Mazzucchelli, Richmond Lew...           eng   \n",
       "2                                            Harper Lee           eng   \n",
       "3                                         David Sedaris         en-US   \n",
       "4                                          Laini Taylor           eng   \n",
       "...                                                 ...           ...   \n",
       "1065                                       John Grisham           eng   \n",
       "1066                                    Bryce Courtenay           eng   \n",
       "1067                                   Dashiell Hammett           eng   \n",
       "1068                                     Kristin Hannah         en-US   \n",
       "1069                                          Lee Child           eng   \n",
       "\n",
       "     Author_Rating  Book_average_rating  Book_ratings_count          genre  \\\n",
       "0           Novice                 3.42              155903  genre fiction   \n",
       "1     Intermediate                 4.23              145267  genre fiction   \n",
       "2           Novice                 3.31              138669  genre fiction   \n",
       "3     Intermediate                 4.04              150898        fiction   \n",
       "4     Intermediate                 4.04              198283  genre fiction   \n",
       "...            ...                  ...                 ...            ...   \n",
       "1065  Intermediate                 3.52               37379     nonfiction   \n",
       "1066     Excellent                 4.34               57312  genre fiction   \n",
       "1067  Intermediate                 3.92               58742  genre fiction   \n",
       "1068     Excellent                 4.17               58028  genre fiction   \n",
       "1069     Excellent                 4.07               55251  genre fiction   \n",
       "\n",
       "      gross sales  publisher revenue  sale price  sales rank  \\\n",
       "0        34160.00          20496.000        4.88           1   \n",
       "1        12437.50           7462.500        1.99           2   \n",
       "2        47795.00          28677.000        8.69           3   \n",
       "3        41250.00          24750.000        7.50           3   \n",
       "4        37952.50          22771.500        7.99           4   \n",
       "...           ...                ...         ...         ...   \n",
       "1065       104.94             62.964        0.99        1268   \n",
       "1066       846.94            508.164        7.99        1270   \n",
       "1067       846.94            508.164        7.99        1271   \n",
       "1068       104.94             62.964        0.99        1272   \n",
       "1069       316.94              0.000        2.99        1273   \n",
       "\n",
       "                          Publisher   units sold  year  \n",
       "0           HarperCollins Publishers        7000  1975  \n",
       "1           HarperCollins Publishers        6250  1987  \n",
       "2     Amazon Digital Services,  Inc.        5500  2015  \n",
       "3                Hachette Book Group        5500  2008  \n",
       "4            Penguin Group (USA) LLC        4750  2011  \n",
       "...                              ...         ...   ...  \n",
       "1065  Amazon Digital Services,  Inc.         106  2014  \n",
       "1066                Random House LLC         106  1989  \n",
       "1067             Hachette Book Group         106  1930  \n",
       "1068  Amazon Digital Services,  Inc.         106  2011  \n",
       "1069  Amazon Digital Services,  Inc.         106  1999  \n",
       "\n",
       "[1047 rows x 16 columns]"
      ]
     },
     "execution_count": 194,
     "metadata": {},
     "output_type": "execute_result"
    }
   ],
   "source": [
    "df"
   ]
  }
 ],
 "metadata": {
  "kernelspec": {
   "display_name": "Python 3",
   "language": "python",
   "name": "python3"
  },
  "language_info": {
   "codemirror_mode": {
    "name": "ipython",
    "version": 3
   },
   "file_extension": ".py",
   "mimetype": "text/x-python",
   "name": "python",
   "nbconvert_exporter": "python",
   "pygments_lexer": "ipython3",
   "version": "3.12.3"
  }
 },
 "nbformat": 4,
 "nbformat_minor": 2
}
